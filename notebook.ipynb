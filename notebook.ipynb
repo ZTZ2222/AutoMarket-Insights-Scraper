{
 "cells": [
  {
   "cell_type": "code",
   "execution_count": 1,
   "metadata": {},
   "outputs": [],
   "source": [
    "import requests\n",
    "from bs4 import BeautifulSoup\n",
    "\n",
    "page = 1\n",
    "url = f'https://cars.kg/offers/{page}?direction=sale&price_from=4000&price_to=15000&year_from=2005&year_to=2023&city=1'\n",
    "headers = {\n",
    "    'accept': '*/*',\n",
    "    'user-agent': 'Mozilla/5.0 (Windows NT 10.0; Win64; x64) AppleWebKit/537.36 (KHTML, like Gecko) Chrome/108.0.0.0 Safari/537.36'\n",
    "}\n",
    "response = requests.get(url=url, headers=headers)"
   ]
  },
  {
   "cell_type": "code",
   "execution_count": 2,
   "metadata": {},
   "outputs": [],
   "source": [
    "soup = BeautifulSoup(response.text, 'lxml')\n",
    "cars_items = soup.find('div', class_='catalog-list').find_all('a', class_='catalog-list-item')"
   ]
  },
  {
   "cell_type": "code",
   "execution_count": 20,
   "metadata": {},
   "outputs": [],
   "source": [
    "body_types = ['Седан','Хэтчбек','Универсал','Купе','Кабриолет','Внедорожник','Пикап','Минивэн','Бус','Кроссовер']"
   ]
  },
  {
   "cell_type": "code",
   "execution_count": 64,
   "metadata": {},
   "outputs": [
    {
     "name": "stdout",
     "output_type": "stream",
     "text": [
      "Honda CR-V 2 поколение [рестайлинг] Кроссовер ['Кроссовер', 'серебряный', '2.0 л.', 'правый руль', 'бензин', 'автомат', 'задний', '']\n",
      "BMW 5 серия E60/E61 [рестайлинг] Седан ['Седан', 'серебряный', '3 л.', 'левый руль', 'бензин', 'автомат', 'передний', '']\n",
      "Toyota Estima 3 поколение Минивэн 5-дв. ['Минивэн / Бус', 'серебряный', '2.4 л.', 'правый руль', 'бензин', 'вариатор', 'передний', '']\n",
      "Honda CR-V 2 поколение [рестайлинг] Кроссовер ['Кроссовер', 'серый', '2 л.', 'левый руль', 'бензин', 'автомат', 'постоянный полный', '']\n",
      "Toyota Corolla E120 Хетчбэк 5-дв. ['Хэтчбек', 'мокрый асфальт', '1.4 л.', 'левый руль', 'дизель', 'типтроник', 'передний', '']\n",
      "Hyundai Sonata YF Седан 4-дв. ['Седан', 'серебряный', '2.0 л.', 'левый руль', 'газ', 'автомат', 'задний', '']\n",
      "Toyota Crown ['3.5 л.', 'правый руль', 'гибрид', 'автомат', 'задний', '']\n",
      "Lexus IS ['2 л.', 'левый руль', 'бензин', 'автомат', 'задний', '']\n",
      "Subaru Outback 4 поколение Универсал ['Универсал', 'серебряный', '2.5 л.', 'левый руль', 'бензин', 'вариатор', 'постоянный полный', '']\n",
      "Hyundai Santa Fe CM Кроссовер ['Кроссовер', 'белый', '2.2 л.', 'левый руль', 'дизель', 'автомат', 'передний', '']\n",
      "Toyota Auris 1 поколение [рестайлинг] Hybrid хетчбэк 5-дв. ['Хэтчбек', 'белый', '1.8 л.', 'левый руль', 'гибрид', 'вариатор', 'передний', '']\n",
      "Toyota Prius ['1.8 л.', 'левый руль', 'гибрид', 'автомат', '']\n",
      "Toyota Alphard ['2.4 л.', 'левый руль', 'автомат', 'передний', '']\n",
      "Toyota Avalon ['3.5 л.', 'левый руль', 'бензин', 'автомат', 'передний', '']\n",
      "Toyota Prius 3 поколение [рестайлинг] Хетчбэк ['Хэтчбек', 'синий', '1.8 л.', 'левый руль', 'гибрид', 'вариатор', 'передний', '']\n"
     ]
    }
   ],
   "source": [
    "base_url = 'https://cars.kg'\n",
    "for ci in cars_items:\n",
    "    # car_link = base_url + ci.get('href')\n",
    "    make_model = ci.find('span', class_='catalog-item-params').find('span', class_='catalog-item-caption').contents[0].strip().replace(' ,', '')\n",
    "    year = ci.find('span', class_='catalog-item-params').find('span', class_='catalog-item-caption').find('span').text.strip()\n",
    "    mileage = ci.find('span', class_='catalog-item-params').find('span', class_='catalog-item-mileage').text.strip()\n",
    "    price = ci.find('span', class_='catalog-item-params').find('span', class_='catalog-item-price').text.strip()\n",
    "    description = ci.find('span', class_='catalog-item-descr').text.split(',')\n",
    "    descriptions=[]\n",
    "    for sub in description:\n",
    "        descriptions.append(sub.strip())\n",
    "    # city = ci.find('span', class_='catalog-item-info').text.split(',')[-1].strip()\n",
    "    print(make_model, descriptions)"
   ]
  }
 ],
 "metadata": {
  "kernelspec": {
   "display_name": ".venv",
   "language": "python",
   "name": "python3"
  },
  "language_info": {
   "codemirror_mode": {
    "name": "ipython",
    "version": 3
   },
   "file_extension": ".py",
   "mimetype": "text/x-python",
   "name": "python",
   "nbconvert_exporter": "python",
   "pygments_lexer": "ipython3",
   "version": "3.10.5"
  },
  "orig_nbformat": 4,
  "vscode": {
   "interpreter": {
    "hash": "e272ed1d58c11f99d0d67e7f26ffac7b1cc4db4b655e2cb9288fa1405fde6bc2"
   }
  }
 },
 "nbformat": 4,
 "nbformat_minor": 2
}
